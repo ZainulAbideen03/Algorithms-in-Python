{
 "cells": [
  {
   "cell_type": "code",
   "execution_count": 2,
   "metadata": {},
   "outputs": [
    {
     "name": "stdout",
     "output_type": "stream",
     "text": [
      "Enter number: 2\n",
      "Log₂(2) = 1.0\n",
      "2Log₂(2) = 2.0\n",
      "2² = 4\n",
      "2³ = 8\n",
      "2⁴ = 16\n",
      "2⁵ = 32\n",
      "2⁶ = 64\n",
      "2⁷ = 128\n",
      "2⁸ = 256\n"
     ]
    }
   ],
   "source": [
    "\"\"\"\n",
    "Rate of growth\n",
    "\"\"\"\n",
    "import math\n",
    "value = int(input(\"Enter number: \"))\n",
    "print(f'Log\\N{SUBSCRIPT TWO}({value}) = {math.log2(value)}')\n",
    "print(f'{value}Log\\N{SUBSCRIPT TWO}({value}) = {value*math.log2(value)}')\n",
    "print(f'{value}\\N{SUPERSCRIPT TWO} = {value**2}')\n",
    "print(f'{value}\\N{SUPERSCRIPT THREE} = {value**3}')\n",
    "print(f'{value}\\N{SUPERSCRIPT FOUR} = {value**4}')\n",
    "print(f'{value}\\N{SUPERSCRIPT FIVE} = {value**5}')\n",
    "print(f'{value}\\N{SUPERSCRIPT SIX} = {value**6}')\n",
    "print(f'{value}\\N{SUPERSCRIPT SEVEN} = {value**7}')\n",
    "print(f'{value}\\N{SUPERSCRIPT EIGHT} = {value**8}')"
   ]
  },
  {
   "cell_type": "code",
   "execution_count": null,
   "metadata": {},
   "outputs": [],
   "source": []
  },
  {
   "cell_type": "code",
   "execution_count": 22,
   "metadata": {},
   "outputs": [
    {
     "name": "stdout",
     "output_type": "stream",
     "text": [
      "Enter how many numbers you want to enter in list: 2\n",
      "Enter Number: 1\n",
      "Enter Number: 3\n",
      "Enter a number you want to search in list: 6\n",
      "Not found\n"
     ]
    }
   ],
   "source": [
    "\"\"\"\n",
    "Linear Search\n",
    "\"\"\"\n",
    "li_search = []\n",
    "number = int(input(\"Enter how many numbers you want to enter in list: \"))\n",
    "for i in range(number):\n",
    "    val = int(input(\"Enter Number: \"))\n",
    "    li_search.append(val)\n",
    "target = int(input(\"Enter a number you want to search in list: \"))\n",
    "for i in range(len(li_search)):\n",
    "    if li_search[i] == target:\n",
    "        print(f\"Element Found at {i} index\")\n",
    "        break\n",
    "else:\n",
    "    print(\"Not found\")"
   ]
  },
  {
   "cell_type": "code",
   "execution_count": 24,
   "metadata": {},
   "outputs": [
    {
     "name": "stdout",
     "output_type": "stream",
     "text": [
      "Enter number you want to search: 2\n",
      "element is present at index 2\n"
     ]
    }
   ],
   "source": [
    "\"\"\"\n",
    "Binary Search\n",
    "\"\"\"\n",
    "def Binary_search(a,b,c,d):\n",
    "    while (b<= c):\n",
    "        mid =(int)((b+c)/2)\n",
    "        if d > a[mid]:\n",
    "            b = mid+1\n",
    "        elif (d<a[mid]):\n",
    "            c = mid-1\n",
    "        elif (d == a[mid]):\n",
    "            return mid\n",
    "    return -1\n",
    "a = [0,1,2,3,4,5,6,7,8,9]\n",
    "d = int(input(\"Enter number you want to search: \"))\n",
    "b = 0\n",
    "c = len(a)-1\n",
    "found =Binary_search(a,b,c,d)\n",
    "if (found == -1):\n",
    "    print (\"element not present in array\")\n",
    "else:\n",
    "    print (\"element is present at index \" + str(found))\n",
    "    "
   ]
  },
  {
   "cell_type": "code",
   "execution_count": 43,
   "metadata": {},
   "outputs": [
    {
     "name": "stdout",
     "output_type": "stream",
     "text": [
      "Before Sorting\n",
      "[2, 9, 6, 4, 2, 3, 0, 8, 1]\n",
      "\n",
      "After Sorting\n",
      "[0, 1, 2, 2, 3, 4, 6, 8, 9]\n"
     ]
    }
   ],
   "source": [
    "\"\"\"\n",
    "Bubble Sort\n",
    "\"\"\"\n",
    "li = [2,9,6,4,2,3,0,8,1]\n",
    "print(f\"Before Sorting\\n{li}\\n\")\n",
    "for i in range(len(li)):\n",
    "    for j in range(0,len(li)-i-1):\n",
    "        if li[j+1] < li[j]:\n",
    "            li[j],li[j+1] = li[j+1],li[j] \n",
    "print(f\"After Sorting\\n{li}\")"
   ]
  },
  {
   "cell_type": "code",
   "execution_count": 46,
   "metadata": {},
   "outputs": [
    {
     "name": "stdout",
     "output_type": "stream",
     "text": [
      "Unsorted array is:\n",
      "[16, 11, 17, 5, 6] \n",
      "\n",
      "Sorted array is:\n",
      "[5, 6, 11, 16, 17]\n"
     ]
    }
   ],
   "source": [
    "\"\"\"\n",
    "Insertion Sort\n",
    "\"\"\"\n",
    "def insertionSort(arr): \n",
    "    for i in range(1, len(arr)): \n",
    "        key = arr[i] \n",
    "        j = i-1\n",
    "        while j >=0 and key < arr[j] : \n",
    "                arr[j+1] = arr[j] \n",
    "                j -= 1\n",
    "                arr[j+1] = key  \n",
    "arr = [16, 11, 17, 5, 6]\n",
    "print (\"Unsorted array is:\") \n",
    "print(arr,\"\\n\") \n",
    "insertionSort(arr) \n",
    "print (\"Sorted array is:\") \n",
    "print(arr)"
   ]
  },
  {
   "cell_type": "code",
   "execution_count": null,
   "metadata": {},
   "outputs": [],
   "source": [
    "\"\"\"\n",
    "Quick Sort\n",
    "\"\"\"\n",
    "\n",
    "def quickSort(alist):\n",
    "    quickSortHelper(alist,0,len(alist)-1)\n",
    "\n",
    "def quickSortHelper(alist,first,last):\n",
    "    if first<last:\n",
    "        splitpoint = partition(alist,first,last)\n",
    "        quickSortHelper(alist,first,splitpoint-1)\n",
    "        quickSortHelper(alist,splitpoint+1,last)\n",
    "\n",
    "\n",
    "def partition(alist,first,last):\n",
    "    pivotvalue = alist[first]\n",
    "\n",
    "    leftmark = first+1\n",
    "    rightmark = last\n",
    "\n",
    "    done = False\n",
    "    while not done:\n",
    "\n",
    "        while leftmark <= rightmark and alist[leftmark] <= pivotvalue:\n",
    "            leftmark = leftmark + 1\n",
    "\n",
    "        while alist[rightmark] >= pivotvalue and rightmark >= leftmark:\n",
    "            rightmark = rightmark -1\n",
    "\n",
    "        if rightmark < leftmark:\n",
    "            done = True\n",
    "        else:\n",
    "            temp = alist[leftmark]\n",
    "            alist[leftmark] = alist[rightmark]\n",
    "            alist[rightmark] = temp\n",
    "\n",
    "    temp = alist[first]\n",
    "    alist[first] = alist[rightmark]\n",
    "    alist[rightmark] = temp\n",
    "\n",
    "\n",
    "    return rightmark\n",
    "\n",
    "alist = [54,10,30,60,20,11,40]\n",
    "quickSort(alist)\n",
    "print(alist)\n"
   ]
  },
  {
   "cell_type": "code",
   "execution_count": 47,
   "metadata": {},
   "outputs": [
    {
     "name": "stdout",
     "output_type": "stream",
     "text": [
      "Splitting  [54, 26, 93, 17, 77, 31, 44, 55, 20]\n",
      "Splitting  [54, 26, 93, 17]\n",
      "Splitting  [54, 26]\n",
      "Splitting  [54]\n",
      "Merging  [54]\n",
      "Splitting  [26]\n",
      "Merging  [26]\n",
      "Merging  [26, 54]\n",
      "Splitting  [93, 17]\n",
      "Splitting  [93]\n",
      "Merging  [93]\n",
      "Splitting  [17]\n",
      "Merging  [17]\n",
      "Merging  [17, 93]\n",
      "Merging  [17, 26, 54, 93]\n",
      "Splitting  [77, 31, 44, 55, 20]\n",
      "Splitting  [77, 31]\n",
      "Splitting  [77]\n",
      "Merging  [77]\n",
      "Splitting  [31]\n",
      "Merging  [31]\n",
      "Merging  [31, 77]\n",
      "Splitting  [44, 55, 20]\n",
      "Splitting  [44]\n",
      "Merging  [44]\n",
      "Splitting  [55, 20]\n",
      "Splitting  [55]\n",
      "Merging  [55]\n",
      "Splitting  [20]\n",
      "Merging  [20]\n",
      "Merging  [20, 55]\n",
      "Merging  [20, 44, 55]\n",
      "Merging  [20, 31, 44, 55, 77]\n",
      "Merging  [17, 20, 26, 31, 44, 54, 55, 77, 93]\n",
      "[17, 20, 26, 31, 44, 54, 55, 77, 93]\n"
     ]
    }
   ],
   "source": [
    "\"\"\"\n",
    "Merge Sort\n",
    "\"\"\"\n",
    "def mergeSort(alist):\n",
    "    print(\"Splitting \",alist)\n",
    "    if len(alist)>1:\n",
    "        mid = len(alist)//2\n",
    "        lefthalf = alist[:mid]\n",
    "        righthalf = alist[mid:]\n",
    "\n",
    "        mergeSort(lefthalf)\n",
    "        mergeSort(righthalf)\n",
    "\n",
    "        i=0\n",
    "        j=0\n",
    "        k=0\n",
    "        while i < len(lefthalf) and j < len(righthalf):\n",
    "            if lefthalf[i] < righthalf[j]:\n",
    "                alist[k]=lefthalf[i]\n",
    "                i=i+1\n",
    "            else:\n",
    "                alist[k]=righthalf[j]\n",
    "                j=j+1\n",
    "            k=k+1\n",
    "\n",
    "        while i < len(lefthalf):\n",
    "            alist[k]=lefthalf[i]\n",
    "            i=i+1\n",
    "            k=k+1\n",
    "\n",
    "        while j < len(righthalf):\n",
    "            alist[k]=righthalf[j]\n",
    "            j=j+1\n",
    "            k=k+1\n",
    "    print(\"Merging \",alist)\n",
    "\n",
    "alist = [54,26,93,17,77,31,44,55,20]\n",
    "mergeSort(alist)\n",
    "print(alist)\n",
    "\n"
   ]
  },
  {
   "cell_type": "code",
   "execution_count": 49,
   "metadata": {},
   "outputs": [
    {
     "name": "stdout",
     "output_type": "stream",
     "text": [
      "Sorted array is\n",
      "[5, 6, 7, 11, 12, 13]\n"
     ]
    }
   ],
   "source": [
    "\"\"\"\n",
    "Heap Sort\n",
    "\"\"\"\n",
    "def heapify(arr, n, i): \n",
    "    largest = i  # Initialize largest as root \n",
    "    l = 2 * i + 1     # left = 2*i + 1 \n",
    "    r = 2 * i + 2     # right = 2*i + 2 \n",
    "  \n",
    "    # See if left child of root exists and is \n",
    "    # greater than root \n",
    "    if l < n and arr[i] < arr[l]: \n",
    "        largest = l \n",
    "  \n",
    "    # See if right child of root exists and is \n",
    "    # greater than root \n",
    "    if r < n and arr[largest] < arr[r]: \n",
    "        largest = r \n",
    "  \n",
    "    # Change root, if needed \n",
    "    if largest != i: \n",
    "        arr[i],arr[largest] = arr[largest],arr[i]  # swap \n",
    "  \n",
    "        # Heapify the root. \n",
    "        heapify(arr, n, largest) \n",
    "  #The main function to sort an array of given size \n",
    "def heapSort(arr): \n",
    "    n = len(arr) \n",
    "  \n",
    "    # Build a maxheap. \n",
    "    for i in range(n, -1, -1): \n",
    "        heapify(arr, n, i) \n",
    "  \n",
    "    # One by one extract elements \n",
    "    for i in range(n-1, 0, -1): \n",
    "        arr[i], arr[0] = arr[0], arr[i]   # swap \n",
    "        heapify(arr, i, 0) \n",
    "# Driver code to test above \n",
    "arr = [ 12, 11, 13, 5, 6, 7] \n",
    "heapSort(arr) \n",
    "n = len(arr) \n",
    "print (\"Sorted array is\") \n",
    "print(arr)"
   ]
  },
  {
   "cell_type": "code",
   "execution_count": 201,
   "metadata": {},
   "outputs": [
    {
     "name": "stdout",
     "output_type": "stream",
     "text": [
      "MATRIX\n",
      "\n",
      "-  |a | b | c | d | e | f | g | h | i | j | k | l | m |\n",
      "------------------------------------------------------\n",
      "a  |0 | 1 | 1 | 0 | 0 | 0 | 0 | 0 | 0 | 0 | 0 | 0 | 0 | \n",
      "------------------------------------------------------\n",
      "b  |1 | 0 | 0 | 1 | 1 | 0 | 0 | 0 | 0 | 0 | 0 | 0 | 0 | \n",
      "------------------------------------------------------\n",
      "c  |1 | 1 | 0 | 0 | 0 | 0 | 0 | 0 | 0 | 0 | 0 | 0 | 0 | \n",
      "------------------------------------------------------\n",
      "d  |0 | 1 | 0 | 0 | 1 | 0 | 0 | 0 | 0 | 0 | 0 | 0 | 0 | \n",
      "------------------------------------------------------\n",
      "e  |0 | 0 | 1 | 0 | 0 | 1 | 0 | 0 | 0 | 0 | 0 | 0 | 0 | \n",
      "------------------------------------------------------\n",
      "f  |1 | 0 | 1 | 1 | 1 | 0 | 0 | 0 | 0 | 0 | 0 | 0 | 0 | \n",
      "------------------------------------------------------\n",
      "g  |1 | 0 | 1 | 1 | 1 | 0 | 0 | 0 | 0 | 0 | 0 | 0 | 0 | \n",
      "------------------------------------------------------\n",
      "h  |1 | 0 | 1 | 1 | 1 | 0 | 0 | 0 | 0 | 0 | 0 | 0 | 0 | \n",
      "------------------------------------------------------\n",
      "i  |1 | 0 | 1 | 1 | 1 | 0 | 0 | 0 | 0 | 0 | 0 | 0 | 0 | \n",
      "------------------------------------------------------\n",
      "j  |1 | 0 | 1 | 1 | 1 | 0 | 0 | 0 | 0 | 0 | 0 | 0 | 0 | \n",
      "------------------------------------------------------\n",
      "k  |1 | 0 | 0 | 0 | 0 | 0 | 0 | 0 | 1 | 1 | 0 | 1 | 0 | \n",
      "------------------------------------------------------\n",
      "l  |1 | 0 | 0 | 0 | 1 | 0 | 0 | 0 | 0 | 1 | 1 | 0 | 0 | \n",
      "------------------------------------------------------\n",
      "m  |1 | 1 | 0 | 0 | 1 | 0 | 0 | 0 | 1 | 1 | 0 | 1 | 0 | \n",
      "------------------------------------------------------\n",
      " \n",
      "LINKED LIST\n",
      "\n",
      "| a | . |---->| b | . |---->| c | . |\n",
      "\n",
      "| b | . |---->| a | . |---->| d | . |---->| e | . |\n",
      "\n",
      "| c | . |---->| a | . |---->| b | . |\n",
      "\n",
      "| d | . |---->| b | . |---->| e | . |\n",
      "\n",
      "| e | . |---->| c | . |---->| f | . |\n",
      "\n",
      "| f | . |---->| a | . |---->| c | . |---->| d | . |---->| e | . |\n",
      "\n",
      "| g | . |---->| a | . |---->| c | . |---->| d | . |---->| e | . |\n",
      "\n",
      "| h | . |---->| a | . |---->| c | . |---->| d | . |---->| e | . |\n",
      "\n",
      "| i | . |---->| a | . |---->| c | . |---->| d | . |---->| e | . |\n",
      "\n",
      "| j | . |---->| a | . |---->| c | . |---->| d | . |---->| e | . |\n",
      "\n",
      "| k | . |---->| a | . |---->| i | . |---->| j | . |---->| l | . |\n",
      "\n",
      "| l | . |---->| a | . |---->| e | . |---->| j | . |---->| k | . |\n",
      "\n",
      "| m | . |---->| a | . |---->| b | . |---->| e | . |---->| i | . |---->| j | . |---->| l | . |\n",
      "\n",
      " \n",
      "ORDERED PAIR\n",
      "\n",
      "[('a', 'b'), ('a', 'c'), ('b', 'a'), ('b', 'd'), ('b', 'e'), ('c', 'a'), ('c', 'b'), ('d', 'b'), ('d', 'e'), ('e', 'c'), ('e', 'f'), ('f', 'a'), ('f', 'c'), ('f', 'd'), ('f', 'e'), ('g', 'a'), ('g', 'c'), ('g', 'd'), ('g', 'e'), ('h', 'a'), ('h', 'c'), ('h', 'd'), ('h', 'e'), ('i', 'a'), ('i', 'c'), ('i', 'd'), ('i', 'e'), ('j', 'a'), ('j', 'c'), ('j', 'd'), ('j', 'e'), ('k', 'a'), ('k', 'l'), ('k', 'j'), ('k', 'i'), ('l', 'a'), ('l', 'k'), ('l', 'e'), ('l', 'j'), ('m', 'e'), ('m', 'b'), ('m', 'a'), ('m', 'j'), ('m', 'i'), ('m', 'l')]\n"
     ]
    }
   ],
   "source": [
    "\"\"\"\n",
    "Graph\n",
    "\"\"\"\n",
    "graph = {    \"a\" : [\"b\",\"c\"],\n",
    "             \"b\" : [\"a\",\"d\",\"e\"],\n",
    "             \"c\" : [\"a\",\"b\"],\n",
    "             \"d\" : [\"b\",\"e\"],\n",
    "             \"e\" : [\"c\",\"f\"],\n",
    "             \"f\" : [\"a\",\"c\",\"d\",\"e\"],\n",
    "             \"g\" : [\"a\",\"c\",\"d\",\"e\"],\n",
    "             \"h\" : [\"a\",\"c\",\"d\",\"e\"],\n",
    "             \"i\" : [\"a\",\"c\",\"d\",\"e\"],\n",
    "             \"j\" : [\"a\",\"c\",\"d\",\"e\"],\n",
    "             \"k\" : [\"a\",\"l\",\"j\",\"i\"],\n",
    "             \"l\" : [\"a\",\"k\",\"e\",\"j\"],\n",
    "             \"m\" : [\"e\",\"b\",\"a\",\"j\",\"i\",\"l\"]\n",
    "            }\n",
    "def order_pair(mat):\n",
    "    edge = []\n",
    "    for vertives in mat:\n",
    "        for neighbour in mat[vertives]:\n",
    "            edge.append((vertives,neighbour)) \n",
    "    return edge\n",
    "def matrix(m):\n",
    "    mat = {}\n",
    "    for i in m:\n",
    "        mat[i] = sorted(m[i])\n",
    "    for i in mat:\n",
    "        mat[i].insert(len(mat[i])+1,\"\")\n",
    "    lists = list(mat.keys())\n",
    "    l = list(mat.values())\n",
    "   \n",
    "    print(f\"-  |{lists[0]} |\",end=\"\")\n",
    "    for i in range(1,len(lists)):\n",
    "        print(f\" {lists[i] } |\",end=\"\")\n",
    "    print()\n",
    "    print(\"---\"*(len(lists)+5))\n",
    "    i =0\n",
    "    j =1\n",
    "    k = 0\n",
    "    for vertices in mat:\n",
    "            for neighbour in mat[vertices]:\n",
    "                    print(vertices,end=\"  |\")\n",
    "                    for check in lists:\n",
    "                        if neighbour == check :\n",
    "                            print(1,end=\" | \")\n",
    "                            mat[lists[k]][0] = l[i][j]\n",
    "                            j+=1\n",
    "                        elif mat[lists[k]][0] == check:\n",
    "                            mat[lists[k]][0] = l[i][j]\n",
    "                            print(1,end=\" | \")\n",
    "                            j+=1\n",
    "                        else:\n",
    "                            print(0,end=\" | \")\n",
    "                    j=1\n",
    "                    i+=1\n",
    "                    k+=1\n",
    "                    print()\n",
    "                    print(\"---\"*(len(lists)+5))\n",
    "                    break\n",
    "    return \" \"\n",
    "def link_list(mat):\n",
    "    m = {}\n",
    "    for i in mat:\n",
    "        m[i] = sorted(mat[i])\n",
    "    for i in m:\n",
    "        m[i].insert(len(m[i])+1,\"\")\n",
    "    lists = list(m.keys())\n",
    "    l = list(m.values())\n",
    "    i =0\n",
    "    j =1\n",
    "    for vertices in m:\n",
    "        for neighbour in m[vertices]:\n",
    "                print(\"|\",vertices,\"| .\",end=\" |\")\n",
    "                for check in lists:\n",
    "                    if m[lists[i]][0] == check :\n",
    "                        print(\"---->|\",m[lists[i]][0],\"| . |\",end=\"\")\n",
    "                        m[lists[i]][0] = l[i][j]\n",
    "                        j+=1\n",
    "\n",
    "\n",
    "                j=1\n",
    "                i+=1\n",
    "                print(\"\\n\")\n",
    "                break\n",
    "    return \" \"\n",
    "print(\"MATRIX\\n\")\n",
    "print(matrix(graph))\n",
    "print(\"LINKED LIST\\n\")\n",
    "print(link_list(graph))\n",
    "print(\"ORDERED PAIR\\n\")\n",
    "print(order_pair(graph))"
   ]
  },
  {
   "cell_type": "code",
   "execution_count": 233,
   "metadata": {},
   "outputs": [
    {
     "name": "stdout",
     "output_type": "stream",
     "text": [
      "Please Enter the starting point: B\n",
      "\n",
      "-  | A  |  B |  C |  D |  E |  F |\n",
      "A  |  - | 10 | 30 | 25 | 40 | 50 |\n",
      "B  | 10 |  - | 20 | 60 | 15 | 25 |\n",
      "C  | 30 | 20 |  - | 30 | 35 | 40 |\n",
      "D  | 25 | 60 | 30 |  - | 45 | 35 |\n",
      "E  | 40 | 15 | 35 | 25 |  - | 20 |\n",
      "F  | 50 | 25 | 40 | 35 | 20 |  - |\n",
      "\n",
      "\n",
      "Travelling sales man algorithm\n",
      "25 +30 +30 +20 +20 +10 = 135\n"
     ]
    }
   ],
   "source": [
    "\"\"\"\n",
    "Travelling sales man algorithm\n",
    "\"\"\"\n",
    "import numpy as np\n",
    "import copy\n",
    "ts = {\n",
    "    \"A\" : [10,30,25,40,50],\n",
    "    \"B\" : [10,20,60,15,25],\n",
    "    \"C\" : [30,20,30,35,40],\n",
    "    \"D\" : [25,60,30,45,35],\n",
    "    \"E\" : [40,15,35,25,20],\n",
    "    \"F\" : [50,25,40,35,20]\n",
    "}\n",
    "reserve = {}\n",
    "starting_point = input(\"Please Enter the starting point: \")\n",
    "print()\n",
    "key = list(ts.keys())\n",
    "solution = []\n",
    "count,dcount =0,0 \n",
    "for i in ts:\n",
    "    ts[i].insert(count,0)\n",
    "    count+=1\n",
    "tss = copy.deepcopy(ts)\n",
    "indexing = key.index(starting_point)\n",
    "for s in tss:\n",
    "    if starting_point == s:\n",
    "        for r in tss:\n",
    "            reserve[r] = tss[r][indexing]\n",
    "            tss[r][indexing] = 0\n",
    "for i in tss.keys():\n",
    "    if i == starting_point:\n",
    "        continue\n",
    "    else:\n",
    "        a= np.array(tss[i])\n",
    "        b = np.min(a[np.nonzero(a)])\n",
    "        solution.append(b)\n",
    "        index = tss[i].index(b)\n",
    "        for j in tss:\n",
    "            tss[j].pop(index)\n",
    "last_list = np.array(list(reserve.values()))\n",
    "last =np.amin(last_list[np.nonzero(last_list)])\n",
    "solution.append(last)\n",
    "for i in ts:\n",
    "    for j in range(len(ts[i])):\n",
    "        if ts[i][j] == 0:\n",
    "            ts[i][j] = \" -\"\n",
    "print(f\"-  | {key[0]}  |\",end=\"\")\n",
    "for i in range(1,len(key)):\n",
    "        print(f\"  {key[i]} |\",end=\"\")\n",
    "print()\n",
    "for i in ts:\n",
    "    print(i,\" |\",end=\"\")\n",
    "    for j in ts[i]:\n",
    "        print(f\" {j} |\",end=\"\")\n",
    "    print()\n",
    "# print(reserve)\n",
    "# print(tss)\n",
    "print(\"\\n\\nTravelling sales man algorithm\")\n",
    "for i in range(len(solution)-1):\n",
    "    print(solution[i],\"+\",end=\"\")\n",
    "print(solution[-1],\"=\",sum(*[solution]))\n"
   ]
  },
  {
   "cell_type": "code",
   "execution_count": 177,
   "metadata": {},
   "outputs": [
    {
     "name": "stdout",
     "output_type": "stream",
     "text": [
      "O  | A  |  B |  C |  D |  E |  F |\n",
      "A  |  - |  - | 20 | 25 | 40 | 50 |\n",
      "B  | 10 |  - | 20 | 60 | 15 | 25 |\n",
      "C  | 30 |  - |  - | 30 | 35 | 40 |\n",
      "D  | 25 |  - | 30 |  - | 45 | 35 |\n",
      "E  | 40 |  - | 35 | 25 |  - | 20 |\n",
      "F  | 50 |  - | 40 | 35 | 20 |  - |\n"
     ]
    }
   ],
   "source": [
    "reserve = {}\n",
    "for i in ts:\n",
    "    if i == \"B\":\n",
    "        for k in ts:\n",
    "            ts[k][1] = 0  \n",
    "for i in ts:\n",
    "    for j in range(len(ts[i])):\n",
    "        if ts[i][j] == 0:\n",
    "            ts[i][j] = \" -\"\n",
    "print(f\"O  | {key[0]}  |\",end=\"\")\n",
    "for i in range(1,len(key)):\n",
    "        print(f\"  {key[i]} |\",end=\"\")\n",
    "print()\n",
    "for i in ts:\n",
    "    print(i,\" |\",end=\"\")\n",
    "    for j in ts[i]:\n",
    "        print(f\" {j} |\",end=\"\")\n",
    "    print()"
   ]
  },
  {
   "cell_type": "code",
   "execution_count": 175,
   "metadata": {},
   "outputs": [
    {
     "name": "stdout",
     "output_type": "stream",
     "text": [
      "Please Enter the starting point: F\n",
      "\n",
      "O  | A  |  B |  C |  D |  E |  F |\n",
      "A  |  - | 10 | 20 | 25 | 40 | 50 |\n",
      "B  | 10 |  - | 20 | 60 | 15 | 25 |\n",
      "C  | 30 | 20 |  - | 30 | 35 | 40 |\n",
      "D  | 25 | 60 | 30 |  - | 45 | 35 |\n",
      "E  | 40 | 15 | 35 | 25 |  - | 20 |\n",
      "F  | 50 | 25 | 40 | 35 | 20 |  - |\n",
      "{'A': 50, 'B': 25, 'C': 40, 'D': 35, 'E': 20, 'F': 0}\n",
      "5\n",
      "\n",
      "\n",
      "Travelling sales man algorithm\n"
     ]
    }
   ],
   "source": []
  },
  {
   "cell_type": "code",
   "execution_count": 163,
   "metadata": {},
   "outputs": [
    {
     "name": "stdout",
     "output_type": "stream",
     "text": [
      "1\n",
      "1\n"
     ]
    }
   ],
   "source": [
    "import numpy as np\n",
    "lis = np.array([0,1,0,0,0])\n",
    "print(np.min(lis[np.nonzero(lis)]))\n",
    "print(np.max(lis[np.nonzero(lis)]))"
   ]
  },
  {
   "cell_type": "code",
   "execution_count": 217,
   "metadata": {},
   "outputs": [
    {
     "name": "stdout",
     "output_type": "stream",
     "text": [
      "b\n"
     ]
    }
   ],
   "source": [
    "dictionary = {\n",
    "    \"a\" : 0,\n",
    "    \"b\" : 5,\n",
    "    \"c\" : 1\n",
    "}\n",
    "print(min(i for i in dictionary if  dictionary[i] != 0))"
   ]
  },
  {
   "cell_type": "code",
   "execution_count": null,
   "metadata": {},
   "outputs": [
    {
     "name": "stdout",
     "output_type": "stream",
     "text": [
      " * Serving Flask app \"__main__\" (lazy loading)\n",
      " * Environment: production\n",
      "   WARNING: Do not use the development server in a production environment.\n",
      "   Use a production WSGI server instead.\n",
      " * Debug mode: off\n"
     ]
    },
    {
     "name": "stderr",
     "output_type": "stream",
     "text": [
      " * Running on http://127.0.0.1:5000/ (Press CTRL+C to quit)\n",
      "127.0.0.1 - - [08/Aug/2019 09:54:57] \"GET / HTTP/1.1\" 404 -\n",
      "127.0.0.1 - - [08/Aug/2019 09:54:58] \"GET /favicon.ico HTTP/1.1\" 404 -\n"
     ]
    }
   ],
   "source": [
    "from flask import Flask, render_template, url_for\n",
    "app = Flask(__name__)\n",
    "\n",
    "@app.route('/flassk', methodsr=['GET', 'POST'])\n",
    "def lionel(): \n",
    "    return render_template('flassk.html')\n",
    "\n",
    "if __name__ == '__main__':\n",
    "    app.run()"
   ]
  },
  {
   "cell_type": "code",
   "execution_count": 1,
   "metadata": {},
   "outputs": [
    {
     "data": {
      "text/plain": [
       "<Figure size 640x480 with 1 Axes>"
      ]
     },
     "metadata": {},
     "output_type": "display_data"
    }
   ],
   "source": [
    "import random, numpy, math, copy, matplotlib.pyplot as plt\n",
    "cities = [random.sample(range(100), 2) for x in range(15)];\n",
    "tour = random.sample(range(15),15);\n",
    "for temperature in numpy.logspace(0,5,num=100000)[::-1]:\n",
    "    [i,j] = sorted(random.sample(range(15),2));\n",
    "    newTour =  tour[:i] + tour[j:j+1] +  tour[i+1:j] + tour[i:i+1] + tour[j+1:];\n",
    "    if math.exp( ( sum([ math.sqrt(sum([(cities[tour[(k+1) % 15]][d] - cities[tour[k % 15]][d])**2 for d in [0,1] ])) for k in [j,j-1,i,i-1]]) - sum([math.sqrt(sum([(cities[newTour[(k+1) % 15]][d] - cities[newTour[k % 15]][d])**2 for d in [0,1] ])) for k in [j,j-1,i,i-1]])) / temperature) > random.random():\n",
    "        tour = copy.copy(newTour);\n",
    "plt.plot([cities[tour[i % 15]][0] for i in range(16)], [cities[tour[i % 15]][1] for i in range(16)], 'xb-');\n",
    "plt.show()"
   ]
  }
 ],
 "metadata": {
  "kernelspec": {
   "display_name": "Python 3",
   "language": "python",
   "name": "python3"
  },
  "language_info": {
   "codemirror_mode": {
    "name": "ipython",
    "version": 3
   },
   "file_extension": ".py",
   "mimetype": "text/x-python",
   "name": "python",
   "nbconvert_exporter": "python",
   "pygments_lexer": "ipython3",
   "version": "3.7.0"
  }
 },
 "nbformat": 4,
 "nbformat_minor": 2
}
